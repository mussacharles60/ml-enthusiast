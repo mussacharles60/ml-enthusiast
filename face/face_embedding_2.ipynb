{
 "cells": [
  {
   "cell_type": "code",
   "execution_count": 1,
   "metadata": {},
   "outputs": [],
   "source": [
    "# import tensorflow as tf\n",
    "import numpy as np\n",
    "import json\n",
    "import cv2\n",
    "import os\n",
    "from deepface import DeepFace\n",
    "import matplotlib.pyplot as plt\n",
    "import time"
   ]
  },
  {
   "cell_type": "code",
   "execution_count": 2,
   "metadata": {},
   "outputs": [],
   "source": [
    "# Folder containing multiple images of the same face\n",
    "image_folder = 'input_images'\n",
    "\n",
    "# An output file to store the extracted embeddings\n",
    "output_file = 'embeddings/embeddings.json'\n",
    "\n",
    "\n",
    "\n",
    "# A user name of the input images\n",
    "name = 'Mussa'\n",
    "\n",
    "# Create a list to store embeddings\n",
    "all_embeddings = []\n",
    "\n",
    "# List all image files in the folder\n",
    "image_files = [os.path.join(image_folder, filename) for filename in os.listdir(image_folder) if filename.endswith('.jpg')]\n"
   ]
  },
  {
   "cell_type": "code",
   "execution_count": 3,
   "metadata": {},
   "outputs": [],
   "source": [
    "# Extract faces\n",
    "def extract_faces(img_path):\n",
    "    print(f\"Extracting faces for image: {img_path}\")\n",
    "    imgs = DeepFace.extract_faces(img_path=img_path, enforce_detection=False)\n",
    "    return imgs\n",
    "\n",
    "# Create embeddings\n",
    "def create_embeddings(img_path):\n",
    "    # print(f\"Creating embeddings for image: {img_path}\")\n",
    "    print(f\"Creating embeddings...\")\n",
    "    embedding_objs = DeepFace.represent(img_path=img_path, model_name=\"Facenet\", enforce_detection=False)\n",
    "    return embedding_objs"
   ]
  },
  {
   "cell_type": "code",
   "execution_count": 4,
   "metadata": {},
   "outputs": [
    {
     "name": "stdout",
     "output_type": "stream",
     "text": [
      "No image files found\n"
     ]
    }
   ],
   "source": [
    "if len(image_files) > 0:\n",
    "    for image_path in image_files:\n",
    "        imgs = extract_faces(image_path)\n",
    "        if len(imgs) > 0:\n",
    "            print(f\"Found {str(len(imgs))} face{'' if len(imgs) == 1 else 's'} for image: {image_path}\")\n",
    "            \n",
    "            for i, img in enumerate(imgs):\n",
    "                if img[\"confidence\"] > 0:\n",
    "                    print(f' - Face no: {i + 1}, confidence: {img[\"confidence\"]}')\n",
    "                    # plt.title(f'Face no: {i + 1}, confidence: {img[\"confidence\"]}')\n",
    "                    # plt.imshow(img[\"face\"])\n",
    "                    # plt.show()\n",
    "\n",
    "                    embeddings = create_embeddings(img[\"face\"])\n",
    "                    if len(embeddings) > 0:\n",
    "                        for embedding in embeddings:\n",
    "                            all_embeddings.append(embedding[\"embedding\"])\n",
    "\n",
    "        else:\n",
    "            print(f\"No faces found for image: {image_path}\")\n",
    "\n",
    "else:\n",
    "    print(\"No image files found\")"
   ]
  },
  {
   "cell_type": "code",
   "execution_count": 5,
   "metadata": {},
   "outputs": [],
   "source": [
    "# all_embeddings"
   ]
  },
  {
   "cell_type": "code",
   "execution_count": 6,
   "metadata": {},
   "outputs": [
    {
     "name": "stdout",
     "output_type": "stream",
     "text": [
      "No embeddings generated for the input images\n"
     ]
    }
   ],
   "source": [
    "# Calculate the average embedding (if needed)\n",
    "if len(all_embeddings) > 0:\n",
    "\n",
    "    # # Calculate the average embedding\n",
    "    # average_embedding = np.mean(all_embeddings, axis=0)\n",
    "    \n",
    "    # # Store the average embedding in a JSON file\n",
    "    # data = {\n",
    "    #     'name': user_name,\n",
    "    #     'embedding': average_embedding.tolist()\n",
    "    # }\n",
    "    existing_data = []\n",
    "\n",
    "    # Load the existing data from the JSON file\n",
    "    with open(output_file, 'r') as json_file:\n",
    "        existing_data = json.load(json_file)\n",
    "\n",
    "    # Check if the name already exists in the data\n",
    "    word_exists = False\n",
    "    for entry in existing_data:\n",
    "        if entry[\"name\"] == name:\n",
    "            # Get current time in milliseconds (since epoch)\n",
    "            current_time_ms = str(int(time.time() * 1000))\n",
    "            entry[\"embeddings\"][current_time_ms] = all_embeddings\n",
    "            word_exists = True\n",
    "            break\n",
    "    \n",
    "    # If the word doesn't exist, add a new entry\n",
    "    if not word_exists:\n",
    "        # Get current time in milliseconds (since epoch)\n",
    "        current_time_ms = str(int(time.time() * 1000))\n",
    "        new_entry = {\n",
    "            \"name\": name,\n",
    "            \"embeddings\": {\n",
    "                current_time_ms: all_embeddings\n",
    "            }\n",
    "        }\n",
    "        existing_data.append(new_entry)\n",
    "\n",
    "    # Serialize the updated data to JSON and save it back to the file\n",
    "    with open(output_file, 'w') as json_file:\n",
    "        json.dump(existing_data, json_file, indent=2)\n",
    "        \n",
    "    print(f'Done creating embeddings for user: {name}')\n",
    "\n",
    "else: \n",
    "    print(\"No embeddings generated for the input images\")"
   ]
  }
 ],
 "metadata": {
  "kernelspec": {
   "display_name": "ml_env_38",
   "language": "python",
   "name": "python3"
  },
  "language_info": {
   "codemirror_mode": {
    "name": "ipython",
    "version": 3
   },
   "file_extension": ".py",
   "mimetype": "text/x-python",
   "name": "python",
   "nbconvert_exporter": "python",
   "pygments_lexer": "ipython3",
   "version": "3.8.18"
  },
  "orig_nbformat": 4
 },
 "nbformat": 4,
 "nbformat_minor": 2
}
