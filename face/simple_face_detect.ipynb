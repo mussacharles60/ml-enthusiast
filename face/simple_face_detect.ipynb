{
 "cells": [
  {
   "cell_type": "code",
   "execution_count": 4,
   "metadata": {},
   "outputs": [],
   "source": [
    "import cv2\n",
    "\n",
    "cv_model_file = 'models/haarcascade_frontalface_default.xml'\n",
    "\n",
    "# Load a pre-trained face detection model (e.g., Haar Cascade or dlib)\n",
    "face_cascade = cv2.CascadeClassifier(cv_model_file)\n",
    "\n",
    "# Load an image for face detection\n",
    "image = cv2.imread('input_image.jpg')\n",
    "\n",
    "# Convert the image to grayscale (required for face detection)\n",
    "gray = cv2.cvtColor(image, cv2.COLOR_BGR2GRAY)\n",
    "\n",
    "# Perform face detection\n",
    "faces, scores, _ = face_cascade.detectMultiScale3(\n",
    "    gray,\n",
    "    scaleFactor=1.1,\n",
    "    minNeighbors=5,\n",
    "    outputRejectLevels=True\n",
    ")\n",
    "\n",
    "# Loop through the detected faces\n",
    "for (x, y, w, h) in faces:\n",
    "    # Draw a rectangle around the detected face\n",
    "    cv2.rectangle(image, (x, y), (x + w, y + h), (0, 255, 0), 2)\n",
    "\n",
    "    # Display the face number (you can replace this with any information)\n",
    "    cv2.putText(image, 'Face', (x, y - 10), cv2.FONT_HERSHEY_SIMPLEX, 0.5, (0, 255, 0), 2)\n",
    "\n",
    "# Display the image with detected faces\n",
    "cv2.imshow('Face Detection', image)\n",
    "cv2.waitKey(0)\n",
    "cv2.destroyAllWindows()\n"
   ]
  }
 ],
 "metadata": {
  "kernelspec": {
   "display_name": "ml_env_38",
   "language": "python",
   "name": "python3"
  },
  "language_info": {
   "codemirror_mode": {
    "name": "ipython",
    "version": 3
   },
   "file_extension": ".py",
   "mimetype": "text/x-python",
   "name": "python",
   "nbconvert_exporter": "python",
   "pygments_lexer": "ipython3",
   "version": "3.8.18"
  },
  "orig_nbformat": 4
 },
 "nbformat": 4,
 "nbformat_minor": 2
}
