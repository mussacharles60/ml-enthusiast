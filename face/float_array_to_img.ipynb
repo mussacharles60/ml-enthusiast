{
 "cells": [
  {
   "cell_type": "code",
   "execution_count": 52,
   "metadata": {},
   "outputs": [
    {
     "data": {
      "image/png": "[encoded data removed]",
      "text/plain": [
       "<Figure size 640x480 with 1 Axes>"
      ]
     },
     "metadata": {},
     "output_type": "display_data"
    }
   ],
   "source": [
    "import numpy as np\n",
    "import matplotlib.pyplot as plt\n",
    "\n",
    "# Sample list of float numbers (replace this with your own data)\n",
    "float_list = [0.1, 0.2, 0.3, 0.4, 0.5, 0.6]  # Replace with your data\n",
    "\n",
    "# Convert the list to a NumPy array\n",
    "float_array = np.array(float_list, dtype=np.float32)\n",
    "\n",
    "# Reshape the array to form an image (e.g., 2x3 for demonstration)\n",
    "image_shape = (2, 3)  # Replace with the actual shape of your image\n",
    "image_array = float_array.reshape(image_shape)\n",
    "\n",
    "# Normalize the array values to the range [0, 255]\n",
    "normalized_array = ((image_array - image_array.min()) / (image_array.max() - image_array.min()) * 255).astype(np.uint8)\n",
    "\n",
    "# Display the image using Matplotlib\n",
    "plt.imshow(normalized_array, cmap='gray')  # You can choose a colormap as needed\n",
    "plt.axis('off')  # Turn off axis labels and ticks\n",
    "plt.show()\n"
   ]
  },
  {
   "cell_type": "code",
   "execution_count": 47,
   "metadata": {},
   "outputs": [
    {
     "data": {
      "text/plain": [
       "64.0"
      ]
     },
     "execution_count": 47,
     "metadata": {},
     "output_type": "execute_result"
    }
   ],
   "source": [
    "128/2"
   ]
  }
 ],
 "metadata": {
  "language_info": {
   "name": "python"
  },
  "orig_nbformat": 4
 },
 "nbformat": 4,
 "nbformat_minor": 2
}
