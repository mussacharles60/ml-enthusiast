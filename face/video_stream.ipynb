{
 "cells": [
  {
   "cell_type": "code",
   "execution_count": 1,
   "metadata": {},
   "outputs": [
    {
     "name": "stdout",
     "output_type": "stream",
     "text": [
      "4.6.0\n"
     ]
    }
   ],
   "source": [
    "import cv2\n",
    "# import matplotlib.pyplot as plt\n",
    "\n",
    "print(cv2.__version__)\n",
    "# # Create a VideoCapture object to capture video from the default camera (usually 0)\n",
    "# cap = cv2.VideoCapture(0)\n",
    "\n",
    "# while True:\n",
    "#     # Read a frame from the camera\n",
    "#     ret, frame = cap.read()\n",
    "\n",
    "#     # Display the frame in a window named 'Video Capture'\n",
    "#     cv2.imshow('Video Capture', frame)\n",
    "#     # # Display the frame using matplotlib\n",
    "#     # plt.imshow(cv2.cvtColor(frame, cv2.COLOR_BGR2RGB))  # Convert BGR to RGB for matplotlib\n",
    "#     # plt.axis('off')  # Hide axis\n",
    "#     # plt.show()\n",
    "\n",
    "#     # Listen for a key press and check if it's the \"Esc\" key (27 is the ASCII code for Esc)\n",
    "#     key = cv2.waitKey(1)\n",
    "#     if key == 27:\n",
    "#         break\n",
    "\n",
    "# # Release the VideoCapture and close all OpenCV windows\n",
    "# cap.release()\n",
    "# cv2.destroyAllWindows()\n"
   ]
  }
 ],
 "metadata": {
  "kernelspec": {
   "display_name": "ml_env",
   "language": "python",
   "name": "python3"
  },
  "language_info": {
   "codemirror_mode": {
    "name": "ipython",
    "version": 3
   },
   "file_extension": ".py",
   "mimetype": "text/x-python",
   "name": "python",
   "nbconvert_exporter": "python",
   "pygments_lexer": "ipython3",
   "version": "3.11.5"
  },
  "orig_nbformat": 4
 },
 "nbformat": 4,
 "nbformat_minor": 2
}
