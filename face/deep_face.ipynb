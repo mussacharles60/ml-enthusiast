{
 "cells": [
  {
   "cell_type": "code",
   "execution_count": 2,
   "metadata": {},
   "outputs": [],
   "source": [
    "from deepface import DeepFace\n",
    "import matplotlib.pyplot as plt\n",
    "\n",
    "models = [\n",
    "  \"VGG-Face\", \n",
    "  \"Facenet\", \n",
    "  \"Facenet512\", \n",
    "  \"OpenFace\", \n",
    "  \"DeepFace\", \n",
    "  \"DeepID\", \n",
    "  \"ArcFace\", \n",
    "]"
   ]
  },
  {
   "cell_type": "code",
   "execution_count": null,
   "metadata": {},
   "outputs": [],
   "source": [
    "imgs = DeepFace.extract_faces(img_path = \"input_image.jpg\")\n",
    "\n",
    "# print(imgs)\n",
    "\n",
    "for i, img in enumerate(imgs):\n",
    "    plt.title(f'Face no: {i + 1}, confidence: {img[\"confidence\"]}')\n",
    "    plt.imshow(img[\"face\"])"
   ]
  },
  {
   "cell_type": "code",
   "execution_count": 3,
   "metadata": {},
   "outputs": [
    {
     "name": "stderr",
     "output_type": "stream",
     "text": [
      "Finding representations: 100%|██████████| 40/40 [01:19<00:00,  1.99s/it]\n"
     ]
    },
    {
     "name": "stdout",
     "output_type": "stream",
     "text": [
      "Representations stored in input_images/Mussa/representations_facenet.pkl file.Please delete this file when you add new identities in your database.\n",
      "find function lasts  83.04876923561096  seconds\n"
     ]
    },
    {
     "data": {
      "text/plain": [
       "[                                           identity  source_x  source_y  \\\n",
       " 0             input_images/Mussa/2022-12-12 (1).jpg       448       411   \n",
       " 1            input_images/Mussa/20200807_152838.jpg       448       411   \n",
       " 2            input_images/Mussa/20200809_155320.jpg       448       411   \n",
       " 3        input_images/Mussa/IMG_20220701_104146.jpg       448       411   \n",
       " 4       input_images/Mussa/FB_IMG_1613807282841.jpg       448       411   \n",
       " 5       input_images/Mussa/FB_IMG_1581885922678.jpg       448       411   \n",
       " 6            input_images/Mussa/20200312_101422.jpg       448       411   \n",
       " 7            input_images/Mussa/20200130_172549.jpg       448       411   \n",
       " 8            input_images/Mussa/20210916_131908.jpg       448       411   \n",
       " 9       input_images/Mussa/FB_IMG_1581885814754.jpg       448       411   \n",
       " 10            input_images/Mussa/2022-12-12 (6).jpg       448       411   \n",
       " 11            input_images/Mussa/2022-12-12 (7).jpg       448       411   \n",
       " 12           input_images/Mussa/20200317_112218.jpg       448       411   \n",
       " 13           input_images/Mussa/20200317_112218.jpg       448       411   \n",
       " 14           input_images/Mussa/20200317_112029.jpg       448       411   \n",
       " 15  input_images/Mussa/MYS_DM_IMG_1653095204727.jpg       448       411   \n",
       " \n",
       "     source_w  source_h  Facenet_cosine  \n",
       " 0        131       131   -2.220446e-16  \n",
       " 1        131       131    3.619419e-02  \n",
       " 2        131       131    4.058265e-02  \n",
       " 3        131       131    4.600500e-02  \n",
       " 4        131       131    8.747166e-02  \n",
       " 5        131       131    8.841454e-02  \n",
       " 6        131       131    1.198697e-01  \n",
       " 7        131       131    1.382752e-01  \n",
       " 8        131       131    2.261788e-01  \n",
       " 9        131       131    2.290187e-01  \n",
       " 10       131       131    2.321503e-01  \n",
       " 11       131       131    2.321503e-01  \n",
       " 12       131       131    2.573589e-01  \n",
       " 13       131       131    2.993273e-01  \n",
       " 14       131       131    3.118131e-01  \n",
       " 15       131       131    3.223939e-01  ,\n",
       "                                           identity  source_x  source_y  \\\n",
       " 0            input_images/Mussa/2022-12-12 (1).jpg       360       421   \n",
       " 1                  input_images/Mussa/35903944.jpg       360       421   \n",
       " 2                input_images/Mussa/2022-12-12.jpg       360       421   \n",
       " 3           input_images/Mussa/20200317_112029.jpg       360       421   \n",
       " 4      input_images/Mussa/FB_IMG_1581885800218.jpg       360       421   \n",
       " 5           input_images/Mussa/20200802_181225.jpg       360       421   \n",
       " 6           input_images/Mussa/20200804_140520.jpg       360       421   \n",
       " 7           input_images/Mussa/20200317_112218.jpg       360       421   \n",
       " 8   input_images/Mussa/IMG_20230314_233936_441.jpg       360       421   \n",
       " 9           input_images/Mussa/20210916_131319.jpg       360       421   \n",
       " 10          input_images/Mussa/2022-12-12 (17).jpg       360       421   \n",
       " 11          input_images/Mussa/20210916_130924.jpg       360       421   \n",
       " 12     input_images/Mussa/FB_IMG_1581885670173.jpg       360       421   \n",
       " 13          input_images/Mussa/2022-12-12 (16).jpg       360       421   \n",
       " 14     input_images/Mussa/FB_IMG_1581885663890.jpg       360       421   \n",
       " 15      input_images/Mussa/IMG_20220701_104146.jpg       360       421   \n",
       " 16     input_images/Mussa/FB_IMG_1613807319353.jpg       360       421   \n",
       " 17     input_images/Mussa/FB_IMG_1603945176700.jpg       360       421   \n",
       " 18          input_images/Mussa/2022-12-12 (13).jpg       360       421   \n",
       " 19           input_images/Mussa/2022-12-12 (5).jpg       360       421   \n",
       " 20          input_images/Mussa/2022-12-12 (10).jpg       360       421   \n",
       " 21     input_images/Mussa/FB_IMG_1613807282841.jpg       360       421   \n",
       " 22          input_images/Mussa/20230622_205407.jpg       360       421   \n",
       " 23     input_images/Mussa/FB_IMG_1581885922678.jpg       360       421   \n",
       " \n",
       "     source_w  source_h  Facenet_cosine  \n",
       " 0        427       427        0.000000  \n",
       " 1        427       427        0.039603  \n",
       " 2        427       427        0.073840  \n",
       " 3        427       427        0.129810  \n",
       " 4        427       427        0.130530  \n",
       " 5        427       427        0.181044  \n",
       " 6        427       427        0.186875  \n",
       " 7        427       427        0.238178  \n",
       " 8        427       427        0.291692  \n",
       " 9        427       427        0.296291  \n",
       " 10       427       427        0.300947  \n",
       " 11       427       427        0.304918  \n",
       " 12       427       427        0.321669  \n",
       " 13       427       427        0.331094  \n",
       " 14       427       427        0.335619  \n",
       " 15       427       427        0.340724  \n",
       " 16       427       427        0.345775  \n",
       " 17       427       427        0.350920  \n",
       " 18       427       427        0.351950  \n",
       " 19       427       427        0.363057  \n",
       " 20       427       427        0.370363  \n",
       " 21       427       427        0.378701  \n",
       " 22       427       427        0.381292  \n",
       " 23       427       427        0.389035  ]"
      ]
     },
     "execution_count": 3,
     "metadata": {},
     "output_type": "execute_result"
    }
   ],
   "source": [
    "dfs = DeepFace.find(img_path = \"input_image.jpg\", db_path = \"input_images/Mussa\", model_name=models[1], enforce_detection=False)\n",
    "\n",
    "dfs"
   ]
  },
  {
   "cell_type": "code",
   "execution_count": null,
   "metadata": {},
   "outputs": [],
   "source": [
    "embedding_objs = DeepFace.represent(img_path = \"input_image.jpg\", model_name=models[1])\n",
    "\n",
    "embedding_objs"
   ]
  },
  {
   "cell_type": "code",
   "execution_count": null,
   "metadata": {},
   "outputs": [],
   "source": [
    "objs = DeepFace.analyze(img_path = \"input_image.jpg\",\n",
    "        actions = ['age', 'gender', 'race', 'emotion']\n",
    ")\n",
    "\n",
    "objs"
   ]
  },
  {
   "cell_type": "code",
   "execution_count": 7,
   "metadata": {},
   "outputs": [
    {
     "data": {
      "text/plain": [
       "{'verified': False,\n",
       " 'distance': 0.4615626044433424,\n",
       " 'threshold': 0.4,\n",
       " 'model': 'Facenet',\n",
       " 'detector_backend': 'opencv',\n",
       " 'similarity_metric': 'cosine',\n",
       " 'facial_areas': {'img1': {'x': 448, 'y': 411, 'w': 131, 'h': 131},\n",
       "  'img2': {'x': 22, 'y': 146, 'w': 81, 'h': 81}},\n",
       " 'time': 2.5}"
      ]
     },
     "execution_count": 7,
     "metadata": {},
     "output_type": "execute_result"
    }
   ],
   "source": [
    "res = DeepFace.verify(\n",
    "    img1_path=\"input_image.jpg\",\n",
    "    img2_path=\"input_images/Mussa/2022-12-12 (14).jpg\",\n",
    "    model_name=models[1],\n",
    "    enforce_detection=False\n",
    ")\n",
    "\n",
    "res"
   ]
  }
 ],
 "metadata": {
  "kernelspec": {
   "display_name": "ml_env_38",
   "language": "python",
   "name": "python3"
  },
  "language_info": {
   "codemirror_mode": {
    "name": "ipython",
    "version": 3
   },
   "file_extension": ".py",
   "mimetype": "text/x-python",
   "name": "python",
   "nbconvert_exporter": "python",
   "pygments_lexer": "ipython3",
   "version": "3.8.18"
  },
  "orig_nbformat": 4
 },
 "nbformat": 4,
 "nbformat_minor": 2
}
