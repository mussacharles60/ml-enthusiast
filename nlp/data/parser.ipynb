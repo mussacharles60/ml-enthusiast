{
 "cells": [
  {
   "cell_type": "code",
   "execution_count": 14,
   "metadata": {},
   "outputs": [],
   "source": [
    "from bs4 import BeautifulSoup\n",
    "import json"
   ]
  },
  {
   "cell_type": "code",
   "execution_count": 15,
   "metadata": {},
   "outputs": [],
   "source": [
    "# Read the HTML file\n",
    "with open(\"common_sw_words.html\", \"r\", encoding=\"utf-8\") as html_file:\n",
    "    html_content = html_file.read()\n",
    "\n",
    "# print(html_content)"
   ]
  },
  {
   "cell_type": "code",
   "execution_count": 16,
   "metadata": {},
   "outputs": [],
   "source": [
    "# Parse the HTML content using BeautifulSoup\n",
    "soup = BeautifulSoup(html_content, \"html.parser\")"
   ]
  },
  {
   "cell_type": "code",
   "execution_count": 17,
   "metadata": {},
   "outputs": [],
   "source": [
    "# Find the table element\n",
    "table = soup.find(\"table\")\n",
    "\n",
    "# print(table)"
   ]
  },
  {
   "cell_type": "code",
   "execution_count": 21,
   "metadata": {},
   "outputs": [],
   "source": [
    "# Initialize empty list to store words and their translations\n",
    "word_list = []"
   ]
  },
  {
   "cell_type": "code",
   "execution_count": 22,
   "metadata": {},
   "outputs": [
    {
     "name": "stdout",
     "output_type": "stream",
     "text": [
      "1001\n",
      "[{'sw': 'Swahili', 'en': ['in English']}, {'sw': 'kama', 'en': ['as']}]\n"
     ]
    }
   ],
   "source": [
    "# Iterate over rows in the table\n",
    "for row in table.find_all(\"tr\"):\n",
    "    cells = row.find_all(\"td\")\n",
    "    if len(cells) == 3:\n",
    "        number = cells[0].text.strip()\n",
    "        swahili = cells[1].text.strip()\n",
    "        english = cells[2].text.strip()\n",
    "        en = []\n",
    "        en.append(english)\n",
    "        # Append the word and translation to the lists\n",
    "        word_list.append({\n",
    "            \"sw\": swahili,\n",
    "            \"en\": en,\n",
    "        })\n",
    "\n",
    "print(len(word_list))\n",
    "print(word_list[:2])"
   ]
  },
  {
   "cell_type": "code",
   "execution_count": 26,
   "metadata": {},
   "outputs": [
    {
     "name": "stdout",
     "output_type": "stream",
     "text": [
      "Data extracted and saved to 'common_sw_words.json'.\n"
     ]
    }
   ],
   "source": [
    "# Save the data to a JSON file\n",
    "with open(\"common_sw_words.json\", \"w\", encoding=\"utf-8\") as json_file:\n",
    "    json.dump(word_list, json_file, ensure_ascii=False, indent=2)\n",
    "\n",
    "print(\"Data extracted and saved to 'common_sw_words.json'.\")"
   ]
  }
 ],
 "metadata": {
  "kernelspec": {
   "display_name": "ml_env_38",
   "language": "python",
   "name": "python3"
  },
  "language_info": {
   "codemirror_mode": {
    "name": "ipython",
    "version": 3
   },
   "file_extension": ".py",
   "mimetype": "text/x-python",
   "name": "python",
   "nbconvert_exporter": "python",
   "pygments_lexer": "ipython3",
   "version": "3.8.18"
  },
  "orig_nbformat": 4
 },
 "nbformat": 4,
 "nbformat_minor": 2
}
