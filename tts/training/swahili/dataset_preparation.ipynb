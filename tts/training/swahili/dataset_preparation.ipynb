{
 "cells": [
  {
   "cell_type": "code",
   "execution_count": 1,
   "metadata": {
    "vscode": {
     "languageId": "bat"
    }
   },
   "outputs": [
    {
     "name": "stderr",
     "output_type": "stream",
     "text": [
      "'pip' is not recognized as an internal or external command,\n",
      "operable program or batch file.\n"
     ]
    }
   ],
   "source": [
    "!pip install datasets"
   ]
  },
  {
   "cell_type": "code",
   "execution_count": 2,
   "metadata": {
    "vscode": {
     "languageId": "bat"
    }
   },
   "outputs": [
    {
     "name": "stderr",
     "output_type": "stream",
     "text": [
      "'huggingface-cli' is not recognized as an internal or external command,\n",
      "operable program or batch file.\n"
     ]
    }
   ],
   "source": [
    "!git config --global credential.helper store\n",
    "!huggingface-cli login"
   ]
  },
  {
   "cell_type": "code",
   "execution_count": null,
   "metadata": {},
   "outputs": [],
   "source": [
    "from huggingface_hub import notebook_login\n",
    "notebook_login()"
   ]
  },
  {
   "cell_type": "code",
   "execution_count": 9,
   "metadata": {},
   "outputs": [],
   "source": [
    "import os\n",
    "from typing import List, Dict\n",
    "from datasets import load_dataset, load_from_disk, Dataset, Audio\n",
    "from huggingface_hub import HfApi, create_repo\n",
    "import pandas as pd"
   ]
  },
  {
   "cell_type": "code",
   "execution_count": 10,
   "metadata": {},
   "outputs": [],
   "source": [
    "def create_dataset_entries(filtered_dataset) -> List[Dict]:\n",
    "    \"\"\"Create dataset entries based on the filtered dataset.\"\"\"\n",
    "    data = []\n",
    "    for i, item in enumerate(filtered_dataset):\n",
    "        entry = {\n",
    "            'line_id': f\"SW{i:04d}\",\n",
    "            'audio': item['path'],\n",
    "            'text': item['sentence'],\n",
    "            'speaker_id': item['client_id'],\n",
    "\n",
    "        }\n",
    "        data.append(entry)\n",
    "    return data\n",
    "\n",
    "def create_dataset_entries_from_disk(clips_dir, filtered_dataset) -> List[Dict]:\n",
    "    \"\"\"Create dataset entries based on the filtered dataset.\"\"\"\n",
    "    data = []\n",
    "    for i, item in filtered_dataset.iterrows():\n",
    "        entry = {\n",
    "            'line_id': f\"SW{i:04d}\",\n",
    "            'audio': os.path.join(clips_dir, item['path']),  # Correct audio file path\n",
    "            'text': item['sentence'],\n",
    "            'speaker_id': item['client_id'],\n",
    "        }\n",
    "        data.append(entry)\n",
    "    return data\n",
    "\n",
    "def upload_to_huggingface(dataset: Dataset, repo_id: str) -> None:\n",
    "    \"\"\"Upload the dataset to Hugging Face.\"\"\"\n",
    "    api = HfApi()\n",
    "\n",
    "    try:\n",
    "        create_repo(repo_id=repo_id, repo_type=\"dataset\")\n",
    "        print(\"Repository created successfully.\")\n",
    "    except Exception as e:\n",
    "        print(f\"Repository creation failed or already exists: {e}\")\n",
    "\n",
    "    dataset.push_to_hub(repo_id)\n",
    "    print(\"Dataset uploaded successfully!\")"
   ]
  },
  {
   "cell_type": "code",
   "execution_count": 13,
   "metadata": {},
   "outputs": [],
   "source": [
    "def get_dataset(client_id: str):\n",
    "    # Load the Swahili dataset\n",
    "    original_dataset = load_dataset(\"mozilla-foundation/common_voice_17_0\", \"sw\")\n",
    "\n",
    "    # Filter the dataset for the specific client_id\n",
    "    filtered_dataset = original_dataset.filter(lambda example: example['client_id'] == client_id)\n",
    "\n",
    "    # Print the number of rows after filtering\n",
    "    print(f\"Number of rows for client ID {client_id}: {len(filtered_dataset['train'])}\")\n",
    "\n",
    "    # Create dataset entries\n",
    "    data = create_dataset_entries(filtered_dataset[\"train\"])\n",
    "\n",
    "    return data\n",
    "\n",
    "def get_dataset_from_disk(client_id: str):\n",
    "    # Define the path to the extracted Swahili dataset\n",
    "    data_dir = \"E:/Downloads/cv-corpus-17.0-2024-03-15-sw/cv-corpus-17.0-2024-03-15/sw\"\n",
    "    \n",
    "    # Path to the audio clips folder\n",
    "    clips_dir = os.path.join(data_dir, \"clips\")\n",
    "    \n",
    "    # Path to the TSV file containing metadata (e.g., train.tsv)\n",
    "    train_tsv_path = os.path.join(data_dir, \"train.tsv\")  # Can be 'dev.tsv', 'test.tsv', etc.\n",
    "\n",
    "    # Step 1: Load the TSV metadata file\n",
    "    \n",
    "    metadata = pd.read_csv(train_tsv_path, sep='\\t')\n",
    "\n",
    "    # Step 2: Filter the dataset for the specific client_id\n",
    "    filtered_dataset = metadata[metadata['client_id'] == client_id]\n",
    "\n",
    "    # Print the number of rows after filtering\n",
    "    print(f\"Number of rows for client ID {client_id}: {len(filtered_dataset)}\")\n",
    "\n",
    "    # Create dataset entries\n",
    "    data = create_dataset_entries_from_disk(clips_dir, filtered_dataset)\n",
    "\n",
    "    return data\n",
    "\n",
    "def create_and_upload_dataset(repo_id: str, client_id: str) -> None:\n",
    "    \"\"\"\n",
    "    Create a dataset from the Mozilla Common Voice dataset for a specific client_id and upload it to Hugging Face.\n",
    "    \"\"\"\n",
    "    \n",
    "    # # get dataset from huggingface\n",
    "    # data = get_dataset(client_id)\n",
    "\n",
    "    # get dataset from disk\n",
    "    data = get_dataset_from_disk(client_id)\n",
    "\n",
    "    # Create Dataset\n",
    "    dataset = Dataset.from_dict({\n",
    "        'line_id': [item['line_id'] for item in data],\n",
    "        'audio': [item['audio'] for item in data],\n",
    "        'text': [item['text'] for item in data],\n",
    "        'speaker_id': [item['speaker_id'] for item in data],\n",
    "    })\n",
    "\n",
    "    # Cast the audio column to Audio type\n",
    "    dataset = dataset.cast_column(\"audio\", Audio(sampling_rate=48000))  # Adjust sampling rate if needed\n",
    "\n",
    "    # Upload to Hugging Face\n",
    "    upload_to_huggingface(dataset, repo_id)"
   ]
  },
  {
   "cell_type": "code",
   "execution_count": 14,
   "metadata": {},
   "outputs": [
    {
     "name": "stdout",
     "output_type": "stream",
     "text": [
      "Number of rows for client ID fe3befae02733265c3fc953eb67840c57d970340a76386ffda9ab3226d31e376790d7eddefde5f434647687e6136c44e50513edebca32377799b15363919310d: 203\n",
      "Repository created successfully.\n"
     ]
    },
    {
     "name": "stderr",
     "output_type": "stream",
     "text": [
      "Map: 100%|██████████| 203/203 [00:02<00:00, 68.46 examples/s]\n",
      "Creating parquet from Arrow format: 100%|██████████| 3/3 [00:00<00:00, 25.66ba/s]\n",
      "Pushing dataset shards to the dataset hub: 100%|██████████| 1/1 [00:12<00:00, 12.94s/it]\n"
     ]
    },
    {
     "name": "stdout",
     "output_type": "stream",
     "text": [
      "Dataset uploaded successfully!\n"
     ]
    }
   ],
   "source": [
    "# client_id = \"052c5091df7681302a2117b2d21db1540c2156f5254ebe9876a7d0146588eab582e11cb47761a18f84200a510a5386bdf024374f76113cd15fe1cc8d7b9fcf0b\"\n",
    "client_id = \"fe3befae02733265c3fc953eb67840c57d970340a76386ffda9ab3226d31e376790d7eddefde5f434647687e6136c44e50513edebca32377799b15363919310d\"\n",
    "create_and_upload_dataset(\"mcv-sw-female-dataset\", client_id)"
   ]
  }
 ],
 "metadata": {
  "kernelspec": {
   "display_name": "Python 3",
   "language": "python",
   "name": "python3"
  },
  "language_info": {
   "codemirror_mode": {
    "name": "ipython",
    "version": 3
   },
   "file_extension": ".py",
   "mimetype": "text/x-python",
   "name": "python",
   "nbconvert_exporter": "python",
   "pygments_lexer": "ipython3",
   "version": "3.8.18"
  }
 },
 "nbformat": 4,
 "nbformat_minor": 2
}
