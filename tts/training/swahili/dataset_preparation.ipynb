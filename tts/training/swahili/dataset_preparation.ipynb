{
 "cells": [
  {
   "cell_type": "code",
   "execution_count": null,
   "metadata": {
    "vscode": {
     "languageId": "bat"
    }
   },
   "outputs": [],
   "source": [
    "!pip install datasets"
   ]
  },
  {
   "cell_type": "code",
   "execution_count": null,
   "metadata": {
    "vscode": {
     "languageId": "bat"
    }
   },
   "outputs": [],
   "source": [
    "!git config --global credential.helper store\n",
    "!huggingface-cli login"
   ]
  },
  {
   "cell_type": "code",
   "execution_count": 1,
   "metadata": {},
   "outputs": [
    {
     "data": {
      "application/vnd.jupyter.widget-view+json": {
       "model_id": "ea72a47401a24333ae0e1edf2b84d6d8",
       "version_major": 2,
       "version_minor": 0
      },
      "text/plain": [
       "VBox(children=(HTML(value='<center> <img\\nsrc=https://huggingface.co/front/assets/huggingface_logo-noborder.sv…"
      ]
     },
     "metadata": {},
     "output_type": "display_data"
    }
   ],
   "source": [
    "from huggingface_hub import notebook_login\n",
    "notebook_login()"
   ]
  },
  {
   "cell_type": "code",
   "execution_count": 2,
   "metadata": {},
   "outputs": [],
   "source": [
    "import os\n",
    "from typing import List, Dict\n",
    "from datasets import load_dataset, Dataset, Audio\n",
    "from huggingface_hub import HfApi, create_repo"
   ]
  },
  {
   "cell_type": "code",
   "execution_count": 3,
   "metadata": {},
   "outputs": [],
   "source": [
    "def create_dataset_entries(filtered_dataset) -> List[Dict]:\n",
    "    \"\"\"Create dataset entries based on the filtered dataset.\"\"\"\n",
    "    data = []\n",
    "    for i, item in enumerate(filtered_dataset):\n",
    "        entry = {\n",
    "            'line_id': f\"SW{i:04d}\",\n",
    "            'audio': item['path'],\n",
    "            'text': item['sentence'],\n",
    "            'speaker_id': item['client_id'],\n",
    "\n",
    "        }\n",
    "        data.append(entry)\n",
    "    return data\n",
    "\n",
    "def upload_to_huggingface(dataset: Dataset, repo_id: str) -> None:\n",
    "    \"\"\"Upload the dataset to Hugging Face.\"\"\"\n",
    "    api = HfApi()\n",
    "\n",
    "    try:\n",
    "        create_repo(repo_id=repo_id, repo_type=\"dataset\")\n",
    "        print(\"Repository created successfully.\")\n",
    "    except Exception as e:\n",
    "        print(f\"Repository creation failed or already exists: {e}\")\n",
    "\n",
    "    dataset.push_to_hub(repo_id)\n",
    "    print(\"Dataset uploaded successfully!\")"
   ]
  },
  {
   "cell_type": "code",
   "execution_count": 4,
   "metadata": {},
   "outputs": [],
   "source": [
    "def create_and_upload_dataset(repo_id: str, client_id: str) -> None:\n",
    "    \"\"\"\n",
    "    Create a dataset from the Mozilla Common Voice dataset for a specific client_id and upload it to Hugging Face.\n",
    "    \"\"\"\n",
    "    # Load the Swahili dataset\n",
    "    original_dataset = load_dataset(\"mozilla-foundation/common_voice_17_0\", \"sw\")\n",
    "\n",
    "    # Filter the dataset for the specific client_id\n",
    "    filtered_dataset = original_dataset.filter(lambda example: example['client_id'] == client_id)\n",
    "\n",
    "    # Print the number of rows after filtering\n",
    "    print(f\"Number of rows for client ID {client_id}: {len(filtered_dataset['train'])}\")\n",
    "\n",
    "    # Create dataset entries\n",
    "    data = create_dataset_entries(filtered_dataset[\"train\"])\n",
    "\n",
    "    # Create Dataset\n",
    "    dataset = Dataset.from_dict({\n",
    "        'line_id': [item['line_id'] for item in data],\n",
    "        'audio': [item['audio'] for item in data],\n",
    "        'text': [item['text'] for item in data],\n",
    "        'speaker_id': [item['speaker_id'] for item in data],\n",
    "    })\n",
    "\n",
    "    # Cast the audio column to Audio type\n",
    "    dataset = dataset.cast_column(\"audio\", Audio(sampling_rate=48000))  # Adjust sampling rate if needed\n",
    "\n",
    "    # Upload to Hugging Face\n",
    "    upload_to_huggingface(dataset, repo_id)"
   ]
  },
  {
   "cell_type": "code",
   "execution_count": null,
   "metadata": {},
   "outputs": [
    {
     "name": "stderr",
     "output_type": "stream",
     "text": [
      "Downloading builder script: 100%|██████████| 8.19k/8.19k [00:00<00:00, 1.84MB/s]\n",
      "Downloading readme: 100%|██████████| 12.7k/12.7k [00:00<00:00, 3.18MB/s]\n",
      "Downloading extra modules: 100%|██████████| 3.92k/3.92k [00:00<00:00, 1.96MB/s]\n",
      "Downloading extra modules: 100%|██████████| 132k/132k [00:00<00:00, 304kB/s] \n",
      "Downloading data: 100%|██████████| 17.5k/17.5k [00:00<00:00, 4.38MB/s]\n",
      "Downloading data: 100%|██████████| 1.33G/1.33G [11:06<00:00, 2.00MB/s]\n",
      "Downloading data: 100%|██████████| 216M/216M [02:06<00:00, 1.70MB/s]\n",
      "Downloading data: 100%|██████████| 423M/423M [03:18<00:00, 2.13MB/s]/it]\n",
      "Downloading data: 100%|██████████| 422M/422M [03:14<00:00, 2.17MB/s]t]  \n",
      "Downloading data files:  50%|█████     | 3/6 [20:15<16:55, 338.58s/it]"
     ]
    }
   ],
   "source": [
    "# client_id = \"052c5091df7681302a2117b2d21db1540c2156f5254ebe9876a7d0146588eab582e11cb47761a18f84200a510a5386bdf024374f76113cd15fe1cc8d7b9fcf0b\"\n",
    "client_id = \"fe3befae02733265c3fc953eb67840c57d970340a76386ffda9ab3226d31e376790d7eddefde5f434647687e6136c44e50513edebca32377799b15363919310d\"\n",
    "create_and_upload_dataset(\"mcv-sw-female\", client_id)"
   ]
  }
 ],
 "metadata": {
  "kernelspec": {
   "display_name": "Python 3",
   "language": "python",
   "name": "python3"
  },
  "language_info": {
   "codemirror_mode": {
    "name": "ipython",
    "version": 3
   },
   "file_extension": ".py",
   "mimetype": "text/x-python",
   "name": "python",
   "nbconvert_exporter": "python",
   "pygments_lexer": "ipython3",
   "version": "3.8.18"
  }
 },
 "nbformat": 4,
 "nbformat_minor": 2
}
