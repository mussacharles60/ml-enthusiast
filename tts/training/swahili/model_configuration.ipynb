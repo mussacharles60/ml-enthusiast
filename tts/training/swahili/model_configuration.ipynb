{
 "cells": [
  {
   "cell_type": "code",
   "execution_count": 1,
   "metadata": {},
   "outputs": [],
   "source": [
    "import os\n",
    "import json"
   ]
  },
  {
   "cell_type": "code",
   "execution_count": 7,
   "metadata": {},
   "outputs": [
    {
     "name": "stdout",
     "output_type": "stream",
     "text": [
      "Configuration file saved at: .\\female_model_config.json\n"
     ]
    }
   ],
   "source": [
    "# Configuration details\n",
    "config = {\n",
    "    \"project_name\": \"mcv_sw_female_vocal\",\n",
    "    \"push_to_hub\": True,\n",
    "    \"hub_model_id\": \"mussacharles60/mcv-swahili-female-finetuned\",\n",
    "    \"overwrite_output_dir\": True,\n",
    "    \"output_dir\": \"output/generated-model/mms-tts-sw-finetuned\",\n",
    "\n",
    "    \"dataset_name\": \"mussacharles60/mcv-sw-female\", # Updated path\n",
    "    \"audio_column_name\": \"audio\",\n",
    "    \"text_column_name\": \"text\",\n",
    "    \"train_split_name\": \"train\",\n",
    "    \"eval_split_name\": \"train\",\n",
    "    \"speaker_id_column_name\": \"speaker_id\",\n",
    "    \"override_speaker_embeddings\": True,\n",
    "    \"filter_on_speaker_id\": \"fe3befae02733265c3fc953eb67840c57d970340a76386ffda9ab3226d31e376790d7eddefde5f434647687e6136c44e50513edebca32377799b15363919310d\",\n",
    "\n",
    "    \"max_duration_in_seconds\": 20,\n",
    "    \"min_duration_in_seconds\": 1.0,\n",
    "    \"max_tokens_length\": 500,\n",
    "\n",
    "    \"model_name_or_path\": \"D:/Projects/ml-enthusiast/tts/training/swahili/checkpoints\",\n",
    "\n",
    "    \"preprocessing_num_workers\": 4,\n",
    "\n",
    "    \"do_train\": True,\n",
    "    \"num_train_epochs\": 200,\n",
    "    \"gradient_accumulation_steps\": 1,\n",
    "    \"gradient_checkpointing\": False,\n",
    "    \"per_device_train_batch_size\": 16,\n",
    "    \"learning_rate\": 2e-5,\n",
    "    \"adam_beta1\": 0.8,\n",
    "    \"adam_beta2\": 0.99,\n",
    "    \"warmup_ratio\": 0.01,\n",
    "    \"group_by_length\": False,\n",
    "\n",
    "    \"do_eval\": True,\n",
    "    \"eval_steps\": 50,\n",
    "    \"per_device_eval_batch_size\": 16,\n",
    "    \"max_eval_samples\": 25,\n",
    "    \"do_step_schedule_per_epoch\": True,\n",
    "\n",
    "    \"weight_disc\": 3,\n",
    "    \"weight_fmaps\": 1,\n",
    "    \"weight_gen\": 1,\n",
    "    \"weight_kl\": 1.5,\n",
    "    \"weight_duration\": 1,\n",
    "    \"weight_mel\": 35,\n",
    "\n",
    "    \"fp16\": False,\n",
    "    \"seed\": 456\n",
    "}\n",
    "\n",
    "# Save configuration to JSON file\n",
    "config_dir = \".\"\n",
    "config_filename = os.path.join(config_dir, \"female_model_config.json\")\n",
    "\n",
    "with open(config_filename, 'w') as config_file:\n",
    "    json.dump(config, config_file, indent=4)\n",
    "\n",
    "print(f\"Configuration file saved at: {config_filename}\")"
   ]
  }
 ],
 "metadata": {
  "kernelspec": {
   "display_name": "Python 3",
   "language": "python",
   "name": "python3"
  },
  "language_info": {
   "codemirror_mode": {
    "name": "ipython",
    "version": 3
   },
   "file_extension": ".py",
   "mimetype": "text/x-python",
   "name": "python",
   "nbconvert_exporter": "python",
   "pygments_lexer": "ipython3",
   "version": "3.8.18"
  }
 },
 "nbformat": 4,
 "nbformat_minor": 2
}
