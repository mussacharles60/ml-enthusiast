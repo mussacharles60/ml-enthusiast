{
 "cells": [
  {
   "cell_type": "code",
   "execution_count": 2,
   "metadata": {},
   "outputs": [
    {
     "name": "stdout",
     "output_type": "stream",
     "text": [
      " * Serving Flask app '__main__'\n",
      " * Debug mode: on\n"
     ]
    },
    {
     "name": "stderr",
     "output_type": "stream",
     "text": [
      "WARNING: This is a development server. Do not use it in a production deployment. Use a production WSGI server instead.\n",
      " * Running on http://127.0.0.1:3001\n",
      "Press CTRL+C to quit\n",
      " * Restarting with stat\n"
     ]
    },
    {
     "ename": "SystemExit",
     "evalue": "1",
     "output_type": "error",
     "traceback": [
      "An exception has occurred, use %tb to see the full traceback.\n",
      "\u001b[1;31mSystemExit\u001b[0m\u001b[1;31m:\u001b[0m 1\n"
     ]
    },
    {
     "name": "stderr",
     "output_type": "stream",
     "text": [
      "c:\\Users\\Mussa\\.conda\\envs\\ml_env_38\\lib\\site-packages\\IPython\\core\\interactiveshell.py:3513: UserWarning: To exit: use 'exit', 'quit', or Ctrl-D.\n",
      "  warn(\"To exit: use 'exit', 'quit', or Ctrl-D.\", stacklevel=1)\n"
     ]
    }
   ],
   "source": [
    "from flask import Flask, request, jsonify\n",
    "from transformers import VitsModel, AutoModelForTextToWaveform, AutoTokenizer\n",
    "from pydub import AudioSegment\n",
    "from io import BytesIO\n",
    "import base64\n",
    "import torch\n",
    "\n",
    "app = Flask(__name__)\n",
    "\n",
    "# Load the Hugging Face TTS model and processor (once at startup)\n",
    "model_en = VitsModel.from_pretrained(\"facebook/mms-tts-eng\")\n",
    "tokenizer_en = AutoTokenizer.from_pretrained(\"facebook/mms-tts-eng\")\n",
    "\n",
    "# model = VitsModel.from_pretrained(\"facebook/mms-tts-swh\")\n",
    "# tokenizer = AutoTokenizer.from_pretrained(\"facebook/mms-tts-swh\")\n",
    "\n",
    "model_sw = AutoModelForTextToWaveform.from_pretrained(\"khof312/mms-tts-swh-female-2\")\n",
    "tokenizer_sw = AutoTokenizer.from_pretrained(\"khof312/mms-tts-swh-female-2\")\n",
    "\n",
    "# Helper function to generate speech from text using Hugging Face model\n",
    "def text_to_speech(text, lang):\n",
    "    \n",
    "    output = None\n",
    "\n",
    "    # Generate speech audio from text\n",
    "    if lang == \"en\":\n",
    "      inputs = tokenizer_en(text, return_tensors=\"pt\")\n",
    "      with torch.no_grad():\n",
    "        output = model_en(**inputs).waveform\n",
    "    elif lang == \"sw\":\n",
    "      inputs = tokenizer_sw(text, return_tensors=\"pt\")\n",
    "      with torch.no_grad():\n",
    "        output = model_sw(**inputs).waveform\n",
    "\n",
    "    if output == None:\n",
    "      return None\n",
    "    \n",
    "    # Convert PyTorch tensor to NumPy array\n",
    "    output_np = output.squeeze().cpu().numpy()\n",
    "\n",
    "    # Convert to numpy array for manipulation in pydub\n",
    "    # audio_array = speech.detach().numpy().astype(\"int16\")  # Convert to int16 for audio\n",
    "    audio_array = output_np.astype(\"int16\")  # Convert to int16 for audio\n",
    "    audio_segment = AudioSegment(\n",
    "        audio_array.tobytes(),\n",
    "        frame_rate=16000,  # Assuming the sample rate is 16kHz\n",
    "        sample_width=2,  # 16-bit audio = 2 bytes\n",
    "        channels=1  # Mono audio\n",
    "    )\n",
    "\n",
    "    return audio_segment\n",
    "\n",
    "# API route to accept text input and return Base64-encoded audio\n",
    "@app.route('/generate-audio', methods=['POST'])\n",
    "def generate_audio():\n",
    "    data = request.json  # Expecting JSON payload with 'text' field\n",
    "    text = data.get(\"text\", \"\")\n",
    "    lang = data.get(\"lang\", \"\")\n",
    "\n",
    "    if not text or not lang:\n",
    "        return jsonify({\n",
    "          \"err\": {\n",
    "            \"code\": 402,\n",
    "            \"msg\": \"A valid text and language are required\"\n",
    "          }\n",
    "        }), 402\n",
    "\n",
    "    # Step 1: Generate speech from text\n",
    "    audio = text_to_speech(text)\n",
    "\n",
    "    if audio == None:\n",
    "      return jsonify({\n",
    "          \"err\": {\n",
    "            \"code\": 500,\n",
    "            \"msg\": \"Internal server error. Unable to generate audio\"\n",
    "          }\n",
    "        }), 500\n",
    "\n",
    "    # Step 2: Apply pitch modification (increase pitch by 20%)\n",
    "    new_sample_rate = int(audio.frame_rate * 1.2)\n",
    "    pitched_audio = audio._spawn(audio.raw_data, overrides={'frame_rate': new_sample_rate})\n",
    "\n",
    "    # Set the frame rate back to the original value for playback\n",
    "    pitched_audio = pitched_audio.set_frame_rate(audio.frame_rate)\n",
    "\n",
    "    # Step 3: Convert the audio to bytes\n",
    "    buffer = BytesIO()\n",
    "    pitched_audio.export(buffer, format=\"wav\")\n",
    "    audio_bytes = buffer.getvalue()\n",
    "\n",
    "    # Step 4: Encode the audio as base64\n",
    "    audio_base64 = base64.b64encode(audio_bytes).decode('utf-8')\n",
    "    audio_data_uri = f\"data:audio/wav;base64,{audio_base64}\"\n",
    "\n",
    "    # Step 5: Return the Base64-encoded audio as a JSON response\n",
    "    return jsonify({\"audio\": audio_data_uri}), 200\n",
    "\n",
    "if __name__ == '__main__':\n",
    "    app.run(debug=True, port=3001)\n"
   ]
  }
 ],
 "metadata": {
  "kernelspec": {
   "display_name": "Python 3",
   "language": "python",
   "name": "python3"
  },
  "language_info": {
   "codemirror_mode": {
    "name": "ipython",
    "version": 3
   },
   "file_extension": ".py",
   "mimetype": "text/x-python",
   "name": "python",
   "nbconvert_exporter": "python",
   "pygments_lexer": "ipython3",
   "version": "3.8.18"
  }
 },
 "nbformat": 4,
 "nbformat_minor": 2
}
