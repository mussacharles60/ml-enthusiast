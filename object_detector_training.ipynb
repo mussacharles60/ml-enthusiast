{
 "cells": [
  {
   "cell_type": "code",
   "execution_count": 22,
   "metadata": {},
   "outputs": [],
   "source": [
    "# Import the required packages.\n",
    "\n",
    "import numpy as np\n",
    "import os"
   ]
  },
  {
   "cell_type": "code",
   "execution_count": null,
   "metadata": {},
   "outputs": [],
   "source": [
    "from tflite_model_maker.config import ExportFormat, QuantizationConfig\n",
    "from tflite_model_maker import model_spec\n",
    "from tflite_model_maker import object_detector"
   ]
  },
  {
   "cell_type": "code",
   "execution_count": 10,
   "metadata": {},
   "outputs": [],
   "source": [
    "from tflite_support import metadata\n",
    "\n",
    "import tensorflow as tf\n",
    "assert tf.__version__.startswith('2')\n",
    "\n",
    "tf.get_logger().setLevel('ERROR')\n",
    "\n",
    "from absl import logging\n",
    "logging.set_verbosity(logging.ERROR)"
   ]
  },
  {
   "cell_type": "code",
   "execution_count": 8,
   "metadata": {},
   "outputs": [
    {
     "ename": "NameError",
     "evalue": "name 'object_detector' is not defined",
     "output_type": "error",
     "traceback": [
      "\u001b[1;31m---------------------------------------------------------------------------\u001b[0m",
      "\u001b[1;31mNameError\u001b[0m                                 Traceback (most recent call last)",
      "\u001b[1;32md:\\Projects\\ml-enthusiast\\object_detector_training.ipynb Cell 6\u001b[0m line \u001b[0;36m8\n\u001b[0;32m      <a href='vscode-notebook-cell:/d%3A/Projects/ml-enthusiast/object_detector_training.ipynb#W1sZmlsZQ%3D%3D?line=0'>1</a>\u001b[0m \u001b[39m\"\"\"\u001b[39;00m\n\u001b[0;32m      <a href='vscode-notebook-cell:/d%3A/Projects/ml-enthusiast/object_detector_training.ipynb#W1sZmlsZQ%3D%3D?line=1'>2</a>\u001b[0m \u001b[39m   Train the object detection model\u001b[39;00m\n\u001b[0;32m      <a href='vscode-notebook-cell:/d%3A/Projects/ml-enthusiast/object_detector_training.ipynb#W1sZmlsZQ%3D%3D?line=2'>3</a>\u001b[0m \u001b[39m   Step 1: Load the dataset\u001b[39;00m\n\u001b[0;32m      <a href='vscode-notebook-cell:/d%3A/Projects/ml-enthusiast/object_detector_training.ipynb#W1sZmlsZQ%3D%3D?line=3'>4</a>\u001b[0m \u001b[39m   Images in train_data is used to train the custom object detection model.\u001b[39;00m\n\u001b[0;32m      <a href='vscode-notebook-cell:/d%3A/Projects/ml-enthusiast/object_detector_training.ipynb#W1sZmlsZQ%3D%3D?line=4'>5</a>\u001b[0m \u001b[39m   Images in val_data is used to check if the model can generalize well to new images that it hasn't seen before.\u001b[39;00m\n\u001b[0;32m      <a href='vscode-notebook-cell:/d%3A/Projects/ml-enthusiast/object_detector_training.ipynb#W1sZmlsZQ%3D%3D?line=5'>6</a>\u001b[0m \u001b[39m\"\"\"\u001b[39;00m\n\u001b[1;32m----> <a href='vscode-notebook-cell:/d%3A/Projects/ml-enthusiast/object_detector_training.ipynb#W1sZmlsZQ%3D%3D?line=7'>8</a>\u001b[0m train_data \u001b[39m=\u001b[39m object_detector\u001b[39m.\u001b[39mDataLoader\u001b[39m.\u001b[39mfrom_pascal_voc(\n\u001b[0;32m      <a href='vscode-notebook-cell:/d%3A/Projects/ml-enthusiast/object_detector_training.ipynb#W1sZmlsZQ%3D%3D?line=8'>9</a>\u001b[0m     \u001b[39m'\u001b[39m\u001b[39mdatasets/android_figurine/train\u001b[39m\u001b[39m'\u001b[39m,\n\u001b[0;32m     <a href='vscode-notebook-cell:/d%3A/Projects/ml-enthusiast/object_detector_training.ipynb#W1sZmlsZQ%3D%3D?line=9'>10</a>\u001b[0m     \u001b[39m'\u001b[39m\u001b[39mdatasets/android_figurine/train\u001b[39m\u001b[39m'\u001b[39m,\n\u001b[0;32m     <a href='vscode-notebook-cell:/d%3A/Projects/ml-enthusiast/object_detector_training.ipynb#W1sZmlsZQ%3D%3D?line=10'>11</a>\u001b[0m     [\u001b[39m'\u001b[39m\u001b[39mandroid\u001b[39m\u001b[39m'\u001b[39m, \u001b[39m'\u001b[39m\u001b[39mpig_android\u001b[39m\u001b[39m'\u001b[39m]\n\u001b[0;32m     <a href='vscode-notebook-cell:/d%3A/Projects/ml-enthusiast/object_detector_training.ipynb#W1sZmlsZQ%3D%3D?line=11'>12</a>\u001b[0m )\n\u001b[0;32m     <a href='vscode-notebook-cell:/d%3A/Projects/ml-enthusiast/object_detector_training.ipynb#W1sZmlsZQ%3D%3D?line=13'>14</a>\u001b[0m val_data \u001b[39m=\u001b[39m object_detector\u001b[39m.\u001b[39mDataLoader\u001b[39m.\u001b[39mfrom_pascal_voc(\n\u001b[0;32m     <a href='vscode-notebook-cell:/d%3A/Projects/ml-enthusiast/object_detector_training.ipynb#W1sZmlsZQ%3D%3D?line=14'>15</a>\u001b[0m     \u001b[39m'\u001b[39m\u001b[39mdatasets/android_figurine/validate\u001b[39m\u001b[39m'\u001b[39m,\n\u001b[0;32m     <a href='vscode-notebook-cell:/d%3A/Projects/ml-enthusiast/object_detector_training.ipynb#W1sZmlsZQ%3D%3D?line=15'>16</a>\u001b[0m     \u001b[39m'\u001b[39m\u001b[39mdatasets/android_figurine/validate\u001b[39m\u001b[39m'\u001b[39m,\n\u001b[0;32m     <a href='vscode-notebook-cell:/d%3A/Projects/ml-enthusiast/object_detector_training.ipynb#W1sZmlsZQ%3D%3D?line=16'>17</a>\u001b[0m     [\u001b[39m'\u001b[39m\u001b[39mandroid\u001b[39m\u001b[39m'\u001b[39m, \u001b[39m'\u001b[39m\u001b[39mpig_android\u001b[39m\u001b[39m'\u001b[39m]\n\u001b[0;32m     <a href='vscode-notebook-cell:/d%3A/Projects/ml-enthusiast/object_detector_training.ipynb#W1sZmlsZQ%3D%3D?line=17'>18</a>\u001b[0m )\n",
      "\u001b[1;31mNameError\u001b[0m: name 'object_detector' is not defined"
     ]
    }
   ],
   "source": [
    "\"\"\"\n",
    "   Train the object detection model\n",
    "   Step 1: Load the dataset\n",
    "   Images in train_data is used to train the custom object detection model.\n",
    "   Images in val_data is used to check if the model can generalize well to new images that it hasn't seen before.\n",
    "\"\"\"\n",
    "\n",
    "train_data = object_detector.DataLoader.from_pascal_voc(\n",
    "    'datasets/android_figurine/train',\n",
    "    'datasets/android_figurine/train',\n",
    "    ['android', 'pig_android']\n",
    ")\n",
    "\n",
    "val_data = object_detector.DataLoader.from_pascal_voc(\n",
    "    'datasets/android_figurine/validate',\n",
    "    'datasets/android_figurine/validate',\n",
    "    ['android', 'pig_android']\n",
    ")"
   ]
  },
  {
   "cell_type": "code",
   "execution_count": null,
   "metadata": {},
   "outputs": [],
   "source": [
    "\"\"\"\n",
    "   Step 2: Select a model architecture\n",
    "   EfficientDet-Lite[0-4] are a family of mobile/IoT-friendly object detection models derived from the EfficientDet architecture.\n",
    "\"\"\"\n",
    "\n",
    "spec = model_spec.get('efficientdet_lite0')"
   ]
  },
  {
   "cell_type": "code",
   "execution_count": null,
   "metadata": {},
   "outputs": [],
   "source": [
    "\"\"\"\n",
    "   Step 3: Train the TensorFlow model with the training data.\n",
    "   Set epochs = 20, which means it will go through the training dataset 20 times. You can look at the validation accuracy during training and stop when you see validation loss (val_loss) stop decreasing to avoid overfitting.\n",
    "   Set batch_size = 4 here so you will see that it takes 15 steps to go through the 62 images in the training dataset.\n",
    "   Set train_whole_model=True to fine-tune the whole model instead of just training the head layer to improve accuracy. The trade-off is that it may take longer to train the model.\n",
    "\"\"\"\n",
    "\n",
    "model = object_detector.create(\n",
    "    train_data, \n",
    "    model_spec=spec, \n",
    "    batch_size=4, \n",
    "    train_whole_model=True, \n",
    "    epochs=20, \n",
    "    validation_data=val_data\n",
    ")"
   ]
  },
  {
   "cell_type": "code",
   "execution_count": null,
   "metadata": {},
   "outputs": [],
   "source": [
    "\"\"\"\n",
    "   Step 4. Evaluate the model with the validation data.\n",
    "   After training the object detection model using the images in the training dataset, use the 10 images in the validation dataset to evaluate how the model performs against new data it has never seen before.\n",
    "\n",
    "   As the default batch size is 64, it will take 1 step to go through the 10 images in the validation dataset.\n",
    "\n",
    "   The evaluation metrics are same as COCO.\n",
    "\"\"\"\n",
    "\n",
    "model.evaluate(val_data)"
   ]
  },
  {
   "cell_type": "code",
   "execution_count": null,
   "metadata": {},
   "outputs": [],
   "source": [
    "\"\"\"\n",
    "   Step 5: Export as a TensorFlow Lite model.\n",
    "   Export the trained object detection model to the TensorFlow Lite format by specifying which folder you want to export the quantized model to. \n",
    "   The default post-training quantization technique is full integer quantization. \n",
    "   This allows the TensorFlow Lite model to be smaller, run faster on Raspberry Pi CPU and also compatible with the Google Coral EdgeTPU.\n",
    "\"\"\"\n",
    "\n",
    "model.export(export_dir='./models/', tflite_filename='android.tflite')"
   ]
  },
  {
   "cell_type": "code",
   "execution_count": null,
   "metadata": {},
   "outputs": [],
   "source": [
    "\"\"\"\n",
    "   Step 6: Evaluate the TensorFlow Lite model.\n",
    "   Several factors can affect the model accuracy when exporting to TFLite:\n",
    "\n",
    "   Quantization helps shrinking the model size by 4 times at the expense of some accuracy drop.\n",
    "   The original TensorFlow model uses per-class non-max supression (NMS) for post-processing, while the TFLite model uses global NMS that's much faster but less accurate. \n",
    "   Keras outputs maximum 100 detections while tflite outputs maximum 25 detections.\n",
    "   Therefore you'll have to evaluate the exported TFLite model and compare its accuracy with the original TensorFlow model.\n",
    "\"\"\"\n",
    "\n",
    "model.evaluate_tflite('android.tflite', val_data)"
   ]
  },
  {
   "cell_type": "code",
   "execution_count": null,
   "metadata": {},
   "outputs": [],
   "source": []
  }
 ],
 "metadata": {
  "kernelspec": {
   "display_name": "ml_env_39",
   "language": "python",
   "name": "python3"
  },
  "language_info": {
   "codemirror_mode": {
    "name": "ipython",
    "version": 3
   },
   "file_extension": ".py",
   "mimetype": "text/x-python",
   "name": "python",
   "nbconvert_exporter": "python",
   "pygments_lexer": "ipython3",
   "version": "3.9.18"
  },
  "orig_nbformat": 4
 },
 "nbformat": 4,
 "nbformat_minor": 2
}
