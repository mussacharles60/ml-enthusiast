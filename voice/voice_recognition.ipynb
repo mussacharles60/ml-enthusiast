{
 "cells": [
  {
   "cell_type": "code",
   "execution_count": null,
   "metadata": {},
   "outputs": [],
   "source": [
    "import pyaudio\n",
    "import numpy as np\n",
    "import json\n",
    "import openl3  # Import openl3 for extracting embeddings"
   ]
  },
  {
   "cell_type": "code",
   "execution_count": null,
   "metadata": {},
   "outputs": [],
   "source": [
    "# Input path of embeddings json\n",
    "input_file = \"embeddings/embeddings.json\""
   ]
  },
  {
   "cell_type": "code",
   "execution_count": null,
   "metadata": {},
   "outputs": [],
   "source": [
    "# Function to calculate the mean of embeddings\n",
    "def calculate_mean(embeddings):\n",
    "    return np.mean([np.array(embedding) for timestamp, embedding in embeddings.items()], axis=0)\n",
    "\n",
    "# Load the stored embedding from the JSON file\n",
    "with open(input_file, 'r') as json_file:\n",
    "    stored_data = json.load(json_file)"
   ]
  },
  {
   "cell_type": "code",
   "execution_count": null,
   "metadata": {},
   "outputs": [],
   "source": [
    "# Initialize PyAudio\n",
    "p = pyaudio.PyAudio()\n",
    "\n",
    "# Configure and start the audio stream\n",
    "stream = p.open(format=pyaudio.paInt16,\n",
    "                channels=1,\n",
    "                rate=16000,  # Adjust based on your audio\n",
    "                input=True,\n",
    "                frames_per_buffer=1024)\n",
    "\n",
    "try:\n",
    "    while True:\n",
    "        # Record audio data from the microphone\n",
    "        audio_data = np.frombuffer(stream.read(1024), dtype=np.int16)\n",
    "\n",
    "        # Extract features from the audio data using openl3\n",
    "        live_embeddings, _ = openl3.get_audio_embedding(audio_data, 16000)\n",
    "\n",
    "        # Compare live_embeddings with the stored embeddings\n",
    "        best_match = None\n",
    "        best_similarity = -1  # Initialize with a low value\n",
    "\n",
    "        # for entry in stored_data:\n",
    "        #     stored_embeddings = np.array(entry['embedding'])\n",
    "\n",
    "        #     # Calculate similarity or distance (e.g., cosine similarity)\n",
    "        #     similarity = np.dot(live_embeddings, stored_embeddings.T) / (\n",
    "        #         np.linalg.norm(live_embeddings) * np.linalg.norm(stored_embeddings)\n",
    "        #     )\n",
    "\n",
    "        #     if similarity > best_similarity:\n",
    "        #         best_similarity = similarity\n",
    "        #         best_match = entry['word']\n",
    "\n",
    "        # print(\"Predicted word:\", best_match)\n",
    "\n",
    "        for entry in stored_data:\n",
    "            stored_word = entry[\"word\"]\n",
    "            stored_embeddings = entry[\"embeddings\"]\n",
    "\n",
    "            # Calculate similarity or distance (e.g., cosine similarity)\n",
    "            similarity = np.dot(live_embeddings, calculate_mean(stored_embeddings).T) / (\n",
    "                np.linalg.norm(live_embeddings) * np.linalg.norm(calculate_mean(stored_embeddings))\n",
    "            )\n",
    "\n",
    "            if np.any(similarity > best_similarity):  # Use np.any to check if any element is greater\n",
    "                best_similarity = np.max(similarity)  # Get the maximum similarity value\n",
    "                best_match = stored_word\n",
    "\n",
    "        print(\"Predicted word:\", best_match)\n",
    "\n",
    "except KeyboardInterrupt:\n",
    "    # Stop the audio stream when Ctrl+C is pressed\n",
    "    stream.stop_stream()\n",
    "    stream.close()\n",
    "    p.terminate()"
   ]
  }
 ],
 "metadata": {
  "kernelspec": {
   "display_name": "ml_env_38",
   "language": "python",
   "name": "python3"
  },
  "language_info": {
   "codemirror_mode": {
    "name": "ipython",
    "version": 3
   },
   "file_extension": ".py",
   "mimetype": "text/x-python",
   "name": "python",
   "nbconvert_exporter": "python",
   "pygments_lexer": "ipython3",
   "version": "3.8.18"
  },
  "orig_nbformat": 4
 },
 "nbformat": 4,
 "nbformat_minor": 2
}
