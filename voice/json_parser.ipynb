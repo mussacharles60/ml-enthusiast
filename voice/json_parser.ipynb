{
 "cells": [
  {
   "cell_type": "code",
   "execution_count": null,
   "metadata": {},
   "outputs": [],
   "source": [
    "import json\n",
    "import os\n",
    "import requests\n",
    "from urllib.parse import urlparse"
   ]
  },
  {
   "cell_type": "code",
   "execution_count": null,
   "metadata": {},
   "outputs": [],
   "source": [
    "# Directory to save downloaded MP3 files\n",
    "output_directory = 'data/downloaded_mp3s'\n",
    "\n",
    "# Create the output directory if it doesn't exist\n",
    "os.makedirs(output_directory, exist_ok=True)"
   ]
  },
  {
   "cell_type": "code",
   "execution_count": null,
   "metadata": {},
   "outputs": [],
   "source": [
    "with open(\"har_files/har_data.har\", \"r\", encoding=\"utf-8\") as file:\n",
    "    input_data = json.load(file)\n",
    "\n",
    "input_data\n",
    "\n",
    "mp3_urls = []\n",
    "\n",
    "entries = input_data[\"log\"][\"entries\"]\n",
    "\n",
    "for i, entry in enumerate(entries):\n",
    "    request = entry[\"request\"]\n",
    "    url = request[\"url\"]\n",
    "    if url.endswith(\".mp3\"):\n",
    "        mp3_urls.append(url)\n",
    "\n",
    "mp3_urls"
   ]
  },
  {
   "cell_type": "code",
   "execution_count": null,
   "metadata": {},
   "outputs": [],
   "source": [
    "# Custom headers to be added to the requests\n",
    "custom_headers = {\n",
    "    'Accept': '*/*',\n",
    "    'Accept-Encoding': 'identity;q=1, *;q=0',\n",
    "    'Accept-Language': 'en-US,en;q=0.9',\n",
    "    'Dnt': '1',\n",
    "    'Host': 'learn101.org',\n",
    "    'Proxy-Connection': 'keep-alive',\n",
    "    'Range': 'bytes=0-',\n",
    "    'Referer': 'http://learn101.org/sound/swahili/swahili_one.mp3',\n",
    "    'User-Agent': 'Mozilla/5.0 (Windows NT 10.0; Win64; x64) AppleWebKit/537.36 (KHTML, like Gecko) Chrome/117.0.0.0 Safari/537.36'\n",
    "}\n",
    "\n",
    "# Download MP3 files from the URLs\n",
    "# mp3_url = mp3_urls[0]\n",
    "for mp3_url in mp3_urls:\n",
    "    try:\n",
    "        custom_headers[\"Referer\"] = mp3_url\n",
    "        response = requests.get(mp3_url, headers=custom_headers, stream=True)\n",
    "        if response.status_code == 200 or response.status_code == 206:\n",
    "            # Extract the filename from the URL\n",
    "            url_path = urlparse(mp3_url).path\n",
    "            file_name = os.path.join(output_directory, os.path.basename(url_path))\n",
    "\n",
    "            # Save the MP3 file locally with the same name as in the URL\n",
    "            with open(file_name, 'wb') as mp3_file:\n",
    "                for chunk in response.iter_content(chunk_size=1024):\n",
    "                    if chunk:\n",
    "                        mp3_file.write(chunk)\n",
    "            print(f'Downloaded: {file_name}')\n",
    "        else:\n",
    "            print(f'Failed to download: {mp3_url}, Status Code: {response.status_code}')\n",
    "    except Exception as e:\n",
    "        print(f'Error downloading: {mp3_url}, Error: {str(e)}')\n",
    "\n",
    "print('Download complete.')\n"
   ]
  }
 ],
 "metadata": {
  "kernelspec": {
   "display_name": "ml_env_38",
   "language": "python",
   "name": "python3"
  },
  "language_info": {
   "codemirror_mode": {
    "name": "ipython",
    "version": 3
   },
   "file_extension": ".py",
   "mimetype": "text/x-python",
   "name": "python",
   "nbconvert_exporter": "python",
   "pygments_lexer": "ipython3",
   "version": "3.8.18"
  },
  "orig_nbformat": 4
 },
 "nbformat": 4,
 "nbformat_minor": 2
}
